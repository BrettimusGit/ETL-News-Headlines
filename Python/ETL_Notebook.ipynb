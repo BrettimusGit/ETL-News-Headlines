{
 "cells": [
  {
   "cell_type": "markdown",
   "metadata": {},
   "source": [
    "# Dependencies"
   ]
  },
  {
   "cell_type": "code",
   "execution_count": 1,
   "metadata": {},
   "outputs": [],
   "source": [
    "from bs4 import BeautifulSoup as bs\n",
    "import requests\n",
    "import pandas as pd\n",
    "import json\n",
    "from sqlalchemy import create_engine, inspect\n",
    "import numpy as np\n",
    "import time\n",
    "import datetime\n",
    "from config import *\n",
    "import psycopg2\n",
    "from psycopg2 import Error\n",
    "#Database connection definitions in config"
   ]
  },
  {
   "cell_type": "markdown",
   "metadata": {},
   "source": [
    "# Database Connection"
   ]
  },
  {
   "cell_type": "code",
   "execution_count": 2,
   "metadata": {},
   "outputs": [],
   "source": [
    "connection_string = f\"postgresql+psycopg2://{SQL_USERNAME}:{SQL_PASSWORD}@{SQL_IP}:{PORT}/{DATABASE}\"\n",
    "engine = create_engine(connection_string)"
   ]
  },
  {
   "cell_type": "markdown",
   "metadata": {},
   "source": [
    "### View Table Names in Database"
   ]
  },
  {
   "cell_type": "code",
   "execution_count": 3,
   "metadata": {},
   "outputs": [
    {
     "data": {
      "text/plain": [
       "['category', 'headlines', 'sources']"
      ]
     },
     "execution_count": 3,
     "metadata": {},
     "output_type": "execute_result"
    }
   ],
   "source": [
    "inspector=inspect(engine)\n",
    "inspector.get_table_names()"
   ]
  },
  {
   "cell_type": "code",
   "execution_count": 4,
   "metadata": {},
   "outputs": [
    {
     "name": "stdout",
     "output_type": "stream",
     "text": [
      "{'name': 'source_id', 'type': INTEGER(), 'nullable': False, 'default': \"nextval('sources_source_id_seq'::regclass)\", 'autoincrement': True, 'comment': None}\n",
      "{'name': 'source_name', 'type': VARCHAR(length=100), 'nullable': False, 'default': None, 'autoincrement': False, 'comment': None}\n",
      "{'name': 'last_updated', 'type': TIMESTAMP(), 'nullable': False, 'default': 'LOCALTIMESTAMP', 'autoincrement': False, 'comment': None}\n"
     ]
    }
   ],
   "source": [
    "for column in inspector.get_columns(\"sources\"):\n",
    "    print(column)"
   ]
  },
  {
   "cell_type": "markdown",
   "metadata": {},
   "source": [
    "# Web Scrape"
   ]
  },
  {
   "cell_type": "code",
   "execution_count": 5,
   "metadata": {},
   "outputs": [
    {
     "data": {
      "text/plain": [
       "200"
      ]
     },
     "execution_count": 5,
     "metadata": {},
     "output_type": "execute_result"
    }
   ],
   "source": [
    "# URL of page to be scraped\n",
    "url = 'https://www.allsides.com/unbiased-balanced-news'\n",
    "response = requests.get(url)\n",
    "response.status_code"
   ]
  },
  {
   "cell_type": "code",
   "execution_count": 6,
   "metadata": {},
   "outputs": [],
   "source": [
    "html = response.content\n",
    "soup = bs(html, \"lxml\")\n",
    "\n",
    "# Sources \n",
    "source = soup.find(\"div\", class_=\"row-fluid bias-trio-wrapper\")\n",
    "source_name = source.find_all(\"div\", class_=\"news-source\")\n",
    "\n",
    "# Articles\n",
    "article = soup.find(\"div\", class_=\"row-fluid bias-trio-wrapper\")\n",
    "article_name = article.find_all(\"div\", class_=\"news-title\")\n",
    "\n",
    "# Category\n",
    "category_name = soup.find_all(\"div\", class_=\"news-topic\")\n",
    "\n",
    "# Sub Header\n",
    "article_sub_header = soup.find_all(\"div\", class_=\"topic-description\")\n",
    "\n",
    "# Source url\n",
    "article_url = soup.find(\"div\", class_=\"row-fluid bias-trio-wrapper\")\n",
    "article_urls = article_url.find_all('div', class_=\"news-title\")"
   ]
  },
  {
   "cell_type": "code",
   "execution_count": 7,
   "metadata": {},
   "outputs": [
    {
     "name": "stdout",
     "output_type": "stream",
     "text": [
      "45\n",
      "45\n",
      "45\n",
      "45\n",
      "45\n"
     ]
    }
   ],
   "source": [
    "print(len(article_urls))\n",
    "print(len(article_sub_header))\n",
    "print(len(category_name))\n",
    "print(len(article_name))\n",
    "print(len(source_name))"
   ]
  },
  {
   "cell_type": "markdown",
   "metadata": {},
   "source": [
    "### Append Scraped Data to Lists"
   ]
  },
  {
   "cell_type": "code",
   "execution_count": 8,
   "metadata": {},
   "outputs": [],
   "source": [
    "sources = []\n",
    "articles = []\n",
    "categories = []\n",
    "sub_headers = []\n",
    "urls = []\n",
    "\n",
    "for x in source_name:\n",
    "    source = x.text.strip()\n",
    "    sources.append(source)\n",
    "    \n",
    "for x in article_name:\n",
    "    article = x.text.strip()\n",
    "    articles.append(article)\n",
    "    \n",
    "for x in category_name:\n",
    "    category = x.text.strip()\n",
    "    categories.append(category)\n",
    "\n",
    "for x in article_sub_header:\n",
    "    sub_header = x.text.strip()\n",
    "    sub_headers.append(sub_header)\n",
    "\n",
    "for x in article_urls:\n",
    "    urls.append(x.a.get('href'))"
   ]
  },
  {
   "cell_type": "markdown",
   "metadata": {},
   "source": [
    "### Unique Categories/Sources"
   ]
  },
  {
   "cell_type": "code",
   "execution_count": 9,
   "metadata": {},
   "outputs": [
    {
     "name": "stdout",
     "output_type": "stream",
     "text": [
      "28\n",
      "34\n"
     ]
    }
   ],
   "source": [
    "categories_unique = []\n",
    "for x in categories:\n",
    "    if x not in categories_unique:\n",
    "        categories_unique.append(x)\n",
    "print(len(categories_unique))\n",
    "\n",
    "sources_unique = []\n",
    "for x in sources:\n",
    "    if x not in sources_unique:\n",
    "        sources_unique.append(x)\n",
    "print(len(sources_unique))"
   ]
  },
  {
   "cell_type": "code",
   "execution_count": 10,
   "metadata": {},
   "outputs": [
    {
     "data": {
      "text/html": [
       "<div>\n",
       "<style scoped>\n",
       "    .dataframe tbody tr th:only-of-type {\n",
       "        vertical-align: middle;\n",
       "    }\n",
       "\n",
       "    .dataframe tbody tr th {\n",
       "        vertical-align: top;\n",
       "    }\n",
       "\n",
       "    .dataframe thead th {\n",
       "        text-align: right;\n",
       "    }\n",
       "</style>\n",
       "<table border=\"1\" class=\"dataframe\">\n",
       "  <thead>\n",
       "    <tr style=\"text-align: right;\">\n",
       "      <th></th>\n",
       "      <th>source_name</th>\n",
       "    </tr>\n",
       "  </thead>\n",
       "  <tbody>\n",
       "    <tr>\n",
       "      <th>29</th>\n",
       "      <td>Breitbart News</td>\n",
       "    </tr>\n",
       "    <tr>\n",
       "      <th>30</th>\n",
       "      <td>Reason</td>\n",
       "    </tr>\n",
       "    <tr>\n",
       "      <th>31</th>\n",
       "      <td>Washington Examiner</td>\n",
       "    </tr>\n",
       "    <tr>\n",
       "      <th>32</th>\n",
       "      <td>The Epoch Times</td>\n",
       "    </tr>\n",
       "    <tr>\n",
       "      <th>33</th>\n",
       "      <td>The Dispatch</td>\n",
       "    </tr>\n",
       "  </tbody>\n",
       "</table>\n",
       "</div>"
      ],
      "text/plain": [
       "            source_name\n",
       "29       Breitbart News\n",
       "30               Reason\n",
       "31  Washington Examiner\n",
       "32      The Epoch Times\n",
       "33         The Dispatch"
      ]
     },
     "execution_count": 10,
     "metadata": {},
     "output_type": "execute_result"
    }
   ],
   "source": [
    "sources_df = pd.DataFrame()\n",
    "sources_df['source_name'] = sources_unique\n",
    "sources_df.tail()"
   ]
  },
  {
   "cell_type": "code",
   "execution_count": 11,
   "metadata": {},
   "outputs": [
    {
     "data": {
      "text/html": [
       "<div>\n",
       "<style scoped>\n",
       "    .dataframe tbody tr th:only-of-type {\n",
       "        vertical-align: middle;\n",
       "    }\n",
       "\n",
       "    .dataframe tbody tr th {\n",
       "        vertical-align: top;\n",
       "    }\n",
       "\n",
       "    .dataframe thead th {\n",
       "        text-align: right;\n",
       "    }\n",
       "</style>\n",
       "<table border=\"1\" class=\"dataframe\">\n",
       "  <thead>\n",
       "    <tr style=\"text-align: right;\">\n",
       "      <th></th>\n",
       "      <th>category_name</th>\n",
       "    </tr>\n",
       "  </thead>\n",
       "  <tbody>\n",
       "    <tr>\n",
       "      <th>23</th>\n",
       "      <td>White House</td>\n",
       "    </tr>\n",
       "    <tr>\n",
       "      <th>24</th>\n",
       "      <td>Arts and Entertainment</td>\n",
       "    </tr>\n",
       "    <tr>\n",
       "      <th>25</th>\n",
       "      <td>Kamala Harris</td>\n",
       "    </tr>\n",
       "    <tr>\n",
       "      <th>26</th>\n",
       "      <td>Energy</td>\n",
       "    </tr>\n",
       "    <tr>\n",
       "      <th>27</th>\n",
       "      <td>COVID-19 Misinformation</td>\n",
       "    </tr>\n",
       "  </tbody>\n",
       "</table>\n",
       "</div>"
      ],
      "text/plain": [
       "              category_name\n",
       "23              White House\n",
       "24   Arts and Entertainment\n",
       "25            Kamala Harris\n",
       "26                   Energy\n",
       "27  COVID-19 Misinformation"
      ]
     },
     "execution_count": 11,
     "metadata": {},
     "output_type": "execute_result"
    }
   ],
   "source": [
    "category_df = pd.DataFrame()\n",
    "category_df['category_name'] = categories_unique\n",
    "category_df.tail()"
   ]
  },
  {
   "cell_type": "code",
   "execution_count": 12,
   "metadata": {},
   "outputs": [
    {
     "data": {
      "text/html": [
       "<div>\n",
       "<style scoped>\n",
       "    .dataframe tbody tr th:only-of-type {\n",
       "        vertical-align: middle;\n",
       "    }\n",
       "\n",
       "    .dataframe tbody tr th {\n",
       "        vertical-align: top;\n",
       "    }\n",
       "\n",
       "    .dataframe thead th {\n",
       "        text-align: right;\n",
       "    }\n",
       "</style>\n",
       "<table border=\"1\" class=\"dataframe\">\n",
       "  <thead>\n",
       "    <tr style=\"text-align: right;\">\n",
       "      <th></th>\n",
       "      <th>article_name</th>\n",
       "      <th>article_sub_header</th>\n",
       "      <th>source_name</th>\n",
       "      <th>category_name</th>\n",
       "      <th>url</th>\n",
       "    </tr>\n",
       "  </thead>\n",
       "  <tbody>\n",
       "    <tr>\n",
       "      <th>40</th>\n",
       "      <td>Portland mayor: Time to ‘take our city back’ f...</td>\n",
       "      <td>he mayor of Portland, Ore. has asked for the p...</td>\n",
       "      <td>New York Post (News)</td>\n",
       "      <td>Violence in America</td>\n",
       "      <td>https://www.allsides.com/news/2021-04-25-1037/...</td>\n",
       "    </tr>\n",
       "    <tr>\n",
       "      <th>41</th>\n",
       "      <td>Portland police declare riot Friday night afte...</td>\n",
       "      <td>Police in Portland, Oregon, declared a riot in...</td>\n",
       "      <td>Fox News (Online News)</td>\n",
       "      <td>Violence in America</td>\n",
       "      <td>https://www.allsides.com/news/2021-04-24-1757/...</td>\n",
       "    </tr>\n",
       "    <tr>\n",
       "      <th>42</th>\n",
       "      <td>Kamala Harris to have virtual conversation wit...</td>\n",
       "      <td>Vice President Kamala Harris and Mexican Presi...</td>\n",
       "      <td>Washington Examiner</td>\n",
       "      <td>Kamala Harris</td>\n",
       "      <td>https://www.allsides.com/news/2021-04-24-1748/...</td>\n",
       "    </tr>\n",
       "    <tr>\n",
       "      <th>43</th>\n",
       "      <td>California to Halt Fracking Permits by January...</td>\n",
       "      <td>California will stop issuing new permits for h...</td>\n",
       "      <td>The Epoch Times</td>\n",
       "      <td>Energy</td>\n",
       "      <td>https://www.allsides.com/news/2021-04-25-0152/...</td>\n",
       "    </tr>\n",
       "    <tr>\n",
       "      <th>44</th>\n",
       "      <td>Could the mRNA Vaccines Permanently Alter DNA?</td>\n",
       "      <td>FACT CHECK An article from The Defender, a new...</td>\n",
       "      <td>The Dispatch</td>\n",
       "      <td>COVID-19 Misinformation</td>\n",
       "      <td>https://www.allsides.com/news/2021-04-25-0145/...</td>\n",
       "    </tr>\n",
       "  </tbody>\n",
       "</table>\n",
       "</div>"
      ],
      "text/plain": [
       "                                         article_name  \\\n",
       "40  Portland mayor: Time to ‘take our city back’ f...   \n",
       "41  Portland police declare riot Friday night afte...   \n",
       "42  Kamala Harris to have virtual conversation wit...   \n",
       "43  California to Halt Fracking Permits by January...   \n",
       "44     Could the mRNA Vaccines Permanently Alter DNA?   \n",
       "\n",
       "                                   article_sub_header             source_name  \\\n",
       "40  he mayor of Portland, Ore. has asked for the p...    New York Post (News)   \n",
       "41  Police in Portland, Oregon, declared a riot in...  Fox News (Online News)   \n",
       "42  Vice President Kamala Harris and Mexican Presi...     Washington Examiner   \n",
       "43  California will stop issuing new permits for h...         The Epoch Times   \n",
       "44  FACT CHECK An article from The Defender, a new...            The Dispatch   \n",
       "\n",
       "              category_name                                                url  \n",
       "40      Violence in America  https://www.allsides.com/news/2021-04-25-1037/...  \n",
       "41      Violence in America  https://www.allsides.com/news/2021-04-24-1757/...  \n",
       "42            Kamala Harris  https://www.allsides.com/news/2021-04-24-1748/...  \n",
       "43                   Energy  https://www.allsides.com/news/2021-04-25-0152/...  \n",
       "44  COVID-19 Misinformation  https://www.allsides.com/news/2021-04-25-0145/...  "
      ]
     },
     "execution_count": 12,
     "metadata": {},
     "output_type": "execute_result"
    }
   ],
   "source": [
    "headlines_df = pd.DataFrame()\n",
    "\n",
    "headlines_df['article_name'] = articles\n",
    "headlines_df['article_sub_header'] = sub_headers\n",
    "headlines_df['source_name'] = sources\n",
    "headlines_df['category_name'] = categories\n",
    "headlines_df['url'] = urls\n",
    "\n",
    "headlines_df.tail()"
   ]
  },
  {
   "cell_type": "markdown",
   "metadata": {},
   "source": [
    "# Uploading to SQL DB"
   ]
  },
  {
   "cell_type": "markdown",
   "metadata": {},
   "source": [
    "### Sources Table"
   ]
  },
  {
   "cell_type": "code",
   "execution_count": 13,
   "metadata": {},
   "outputs": [],
   "source": [
    "conn = engine.connect()\n",
    "sources_df.to_sql(\"sources\", schema=\"public\", con=conn, if_exists=\"append\", index=False, method=\"multi\")\n",
    "conn.close()"
   ]
  },
  {
   "cell_type": "code",
   "execution_count": 14,
   "metadata": {},
   "outputs": [
    {
     "data": {
      "text/html": [
       "<div>\n",
       "<style scoped>\n",
       "    .dataframe tbody tr th:only-of-type {\n",
       "        vertical-align: middle;\n",
       "    }\n",
       "\n",
       "    .dataframe tbody tr th {\n",
       "        vertical-align: top;\n",
       "    }\n",
       "\n",
       "    .dataframe thead th {\n",
       "        text-align: right;\n",
       "    }\n",
       "</style>\n",
       "<table border=\"1\" class=\"dataframe\">\n",
       "  <thead>\n",
       "    <tr style=\"text-align: right;\">\n",
       "      <th></th>\n",
       "      <th>source_id</th>\n",
       "      <th>source_name</th>\n",
       "      <th>last_updated</th>\n",
       "    </tr>\n",
       "  </thead>\n",
       "  <tbody>\n",
       "    <tr>\n",
       "      <th>29</th>\n",
       "      <td>30</td>\n",
       "      <td>Breitbart News</td>\n",
       "      <td>2021-04-26 13:31:39.564717</td>\n",
       "    </tr>\n",
       "    <tr>\n",
       "      <th>30</th>\n",
       "      <td>31</td>\n",
       "      <td>Reason</td>\n",
       "      <td>2021-04-26 13:31:39.564717</td>\n",
       "    </tr>\n",
       "    <tr>\n",
       "      <th>31</th>\n",
       "      <td>32</td>\n",
       "      <td>Washington Examiner</td>\n",
       "      <td>2021-04-26 13:31:39.564717</td>\n",
       "    </tr>\n",
       "    <tr>\n",
       "      <th>32</th>\n",
       "      <td>33</td>\n",
       "      <td>The Epoch Times</td>\n",
       "      <td>2021-04-26 13:31:39.564717</td>\n",
       "    </tr>\n",
       "    <tr>\n",
       "      <th>33</th>\n",
       "      <td>34</td>\n",
       "      <td>The Dispatch</td>\n",
       "      <td>2021-04-26 13:31:39.564717</td>\n",
       "    </tr>\n",
       "  </tbody>\n",
       "</table>\n",
       "</div>"
      ],
      "text/plain": [
       "    source_id          source_name               last_updated\n",
       "29         30       Breitbart News 2021-04-26 13:31:39.564717\n",
       "30         31               Reason 2021-04-26 13:31:39.564717\n",
       "31         32  Washington Examiner 2021-04-26 13:31:39.564717\n",
       "32         33      The Epoch Times 2021-04-26 13:31:39.564717\n",
       "33         34         The Dispatch 2021-04-26 13:31:39.564717"
      ]
     },
     "execution_count": 14,
     "metadata": {},
     "output_type": "execute_result"
    }
   ],
   "source": [
    "query = \"\"\"\n",
    "        SELECT\n",
    "            *\n",
    "        FROM\n",
    "            sources\n",
    "        \"\"\"\n",
    "\n",
    "conn = engine.connect()\n",
    "sql_sources_df = pd.read_sql(query, con=conn)\n",
    "conn.close()\n",
    "\n",
    "sql_sources_df.tail()"
   ]
  },
  {
   "cell_type": "markdown",
   "metadata": {},
   "source": [
    "### Category Table"
   ]
  },
  {
   "cell_type": "code",
   "execution_count": 15,
   "metadata": {},
   "outputs": [],
   "source": [
    "conn = engine.connect()\n",
    "category_df.to_sql(\"category\", schema=\"public\", con=conn, if_exists=\"append\", index=False, method=\"multi\")\n",
    "conn.close()"
   ]
  },
  {
   "cell_type": "code",
   "execution_count": 16,
   "metadata": {},
   "outputs": [
    {
     "data": {
      "text/html": [
       "<div>\n",
       "<style scoped>\n",
       "    .dataframe tbody tr th:only-of-type {\n",
       "        vertical-align: middle;\n",
       "    }\n",
       "\n",
       "    .dataframe tbody tr th {\n",
       "        vertical-align: top;\n",
       "    }\n",
       "\n",
       "    .dataframe thead th {\n",
       "        text-align: right;\n",
       "    }\n",
       "</style>\n",
       "<table border=\"1\" class=\"dataframe\">\n",
       "  <thead>\n",
       "    <tr style=\"text-align: right;\">\n",
       "      <th></th>\n",
       "      <th>category_id</th>\n",
       "      <th>category_name</th>\n",
       "      <th>last_updated</th>\n",
       "    </tr>\n",
       "  </thead>\n",
       "  <tbody>\n",
       "    <tr>\n",
       "      <th>23</th>\n",
       "      <td>24</td>\n",
       "      <td>White House</td>\n",
       "      <td>2021-04-26 13:31:39.608942</td>\n",
       "    </tr>\n",
       "    <tr>\n",
       "      <th>24</th>\n",
       "      <td>25</td>\n",
       "      <td>Arts and Entertainment</td>\n",
       "      <td>2021-04-26 13:31:39.608942</td>\n",
       "    </tr>\n",
       "    <tr>\n",
       "      <th>25</th>\n",
       "      <td>26</td>\n",
       "      <td>Kamala Harris</td>\n",
       "      <td>2021-04-26 13:31:39.608942</td>\n",
       "    </tr>\n",
       "    <tr>\n",
       "      <th>26</th>\n",
       "      <td>27</td>\n",
       "      <td>Energy</td>\n",
       "      <td>2021-04-26 13:31:39.608942</td>\n",
       "    </tr>\n",
       "    <tr>\n",
       "      <th>27</th>\n",
       "      <td>28</td>\n",
       "      <td>COVID-19 Misinformation</td>\n",
       "      <td>2021-04-26 13:31:39.608942</td>\n",
       "    </tr>\n",
       "  </tbody>\n",
       "</table>\n",
       "</div>"
      ],
      "text/plain": [
       "    category_id            category_name               last_updated\n",
       "23           24              White House 2021-04-26 13:31:39.608942\n",
       "24           25   Arts and Entertainment 2021-04-26 13:31:39.608942\n",
       "25           26            Kamala Harris 2021-04-26 13:31:39.608942\n",
       "26           27                   Energy 2021-04-26 13:31:39.608942\n",
       "27           28  COVID-19 Misinformation 2021-04-26 13:31:39.608942"
      ]
     },
     "execution_count": 16,
     "metadata": {},
     "output_type": "execute_result"
    }
   ],
   "source": [
    "query = \"\"\"\n",
    "        SELECT\n",
    "            *\n",
    "        FROM\n",
    "            category\n",
    "        \"\"\"\n",
    "#Save to Df\n",
    "conn = engine.connect()\n",
    "sql_cat_df = pd.read_sql(query, con=conn)\n",
    "conn.close()\n",
    "\n",
    "sql_cat_df.tail()"
   ]
  },
  {
   "cell_type": "markdown",
   "metadata": {},
   "source": [
    "### Headlines Table"
   ]
  },
  {
   "cell_type": "code",
   "execution_count": 17,
   "metadata": {},
   "outputs": [],
   "source": [
    "source_ids = []\n",
    "category_ids = []\n",
    "\n",
    "for x in headlines_df.source_name:\n",
    "    source_ids.append(sql_sources_df.source_id.loc[sql_sources_df['source_name'] == x].values[0])\n",
    "    \n",
    "for x in headlines_df.category_name:\n",
    "    category_ids.append(sql_cat_df.category_id.loc[sql_cat_df['category_name'] == x].values[0])"
   ]
  },
  {
   "cell_type": "code",
   "execution_count": 18,
   "metadata": {},
   "outputs": [
    {
     "data": {
      "text/html": [
       "<div>\n",
       "<style scoped>\n",
       "    .dataframe tbody tr th:only-of-type {\n",
       "        vertical-align: middle;\n",
       "    }\n",
       "\n",
       "    .dataframe tbody tr th {\n",
       "        vertical-align: top;\n",
       "    }\n",
       "\n",
       "    .dataframe thead th {\n",
       "        text-align: right;\n",
       "    }\n",
       "</style>\n",
       "<table border=\"1\" class=\"dataframe\">\n",
       "  <thead>\n",
       "    <tr style=\"text-align: right;\">\n",
       "      <th></th>\n",
       "      <th>article_name</th>\n",
       "      <th>article_sub_header</th>\n",
       "      <th>source_id</th>\n",
       "      <th>category_id</th>\n",
       "      <th>url</th>\n",
       "    </tr>\n",
       "  </thead>\n",
       "  <tbody>\n",
       "    <tr>\n",
       "      <th>40</th>\n",
       "      <td>Portland mayor: Time to ‘take our city back’ f...</td>\n",
       "      <td>he mayor of Portland, Ore. has asked for the p...</td>\n",
       "      <td>24</td>\n",
       "      <td>20</td>\n",
       "      <td>https://www.allsides.com/news/2021-04-25-1037/...</td>\n",
       "    </tr>\n",
       "    <tr>\n",
       "      <th>41</th>\n",
       "      <td>Portland police declare riot Friday night afte...</td>\n",
       "      <td>Police in Portland, Oregon, declared a riot in...</td>\n",
       "      <td>28</td>\n",
       "      <td>20</td>\n",
       "      <td>https://www.allsides.com/news/2021-04-24-1757/...</td>\n",
       "    </tr>\n",
       "    <tr>\n",
       "      <th>42</th>\n",
       "      <td>Kamala Harris to have virtual conversation wit...</td>\n",
       "      <td>Vice President Kamala Harris and Mexican Presi...</td>\n",
       "      <td>32</td>\n",
       "      <td>26</td>\n",
       "      <td>https://www.allsides.com/news/2021-04-24-1748/...</td>\n",
       "    </tr>\n",
       "    <tr>\n",
       "      <th>43</th>\n",
       "      <td>California to Halt Fracking Permits by January...</td>\n",
       "      <td>California will stop issuing new permits for h...</td>\n",
       "      <td>33</td>\n",
       "      <td>27</td>\n",
       "      <td>https://www.allsides.com/news/2021-04-25-0152/...</td>\n",
       "    </tr>\n",
       "    <tr>\n",
       "      <th>44</th>\n",
       "      <td>Could the mRNA Vaccines Permanently Alter DNA?</td>\n",
       "      <td>FACT CHECK An article from The Defender, a new...</td>\n",
       "      <td>34</td>\n",
       "      <td>28</td>\n",
       "      <td>https://www.allsides.com/news/2021-04-25-0145/...</td>\n",
       "    </tr>\n",
       "  </tbody>\n",
       "</table>\n",
       "</div>"
      ],
      "text/plain": [
       "                                         article_name  \\\n",
       "40  Portland mayor: Time to ‘take our city back’ f...   \n",
       "41  Portland police declare riot Friday night afte...   \n",
       "42  Kamala Harris to have virtual conversation wit...   \n",
       "43  California to Halt Fracking Permits by January...   \n",
       "44     Could the mRNA Vaccines Permanently Alter DNA?   \n",
       "\n",
       "                                   article_sub_header  source_id  category_id  \\\n",
       "40  he mayor of Portland, Ore. has asked for the p...         24           20   \n",
       "41  Police in Portland, Oregon, declared a riot in...         28           20   \n",
       "42  Vice President Kamala Harris and Mexican Presi...         32           26   \n",
       "43  California will stop issuing new permits for h...         33           27   \n",
       "44  FACT CHECK An article from The Defender, a new...         34           28   \n",
       "\n",
       "                                                  url  \n",
       "40  https://www.allsides.com/news/2021-04-25-1037/...  \n",
       "41  https://www.allsides.com/news/2021-04-24-1757/...  \n",
       "42  https://www.allsides.com/news/2021-04-24-1748/...  \n",
       "43  https://www.allsides.com/news/2021-04-25-0152/...  \n",
       "44  https://www.allsides.com/news/2021-04-25-0145/...  "
      ]
     },
     "execution_count": 18,
     "metadata": {},
     "output_type": "execute_result"
    }
   ],
   "source": [
    "sql_headlines_df = pd.DataFrame()\n",
    "\n",
    "sql_headlines_df['article_name'] = articles\n",
    "sql_headlines_df['article_sub_header'] = sub_headers\n",
    "sql_headlines_df['source_id'] = source_ids\n",
    "sql_headlines_df['category_id'] = category_ids\n",
    "sql_headlines_df['url'] = urls\n",
    "\n",
    "sql_headlines_df.tail()"
   ]
  },
  {
   "cell_type": "code",
   "execution_count": 19,
   "metadata": {},
   "outputs": [],
   "source": [
    "conn = engine.connect()\n",
    "sql_headlines_df.to_sql(\"headlines\", schema=\"public\", con=conn, if_exists=\"append\", index=False, method=\"multi\")\n",
    "conn.close()"
   ]
  },
  {
   "cell_type": "code",
   "execution_count": 20,
   "metadata": {},
   "outputs": [
    {
     "data": {
      "text/html": [
       "<div>\n",
       "<style scoped>\n",
       "    .dataframe tbody tr th:only-of-type {\n",
       "        vertical-align: middle;\n",
       "    }\n",
       "\n",
       "    .dataframe tbody tr th {\n",
       "        vertical-align: top;\n",
       "    }\n",
       "\n",
       "    .dataframe thead th {\n",
       "        text-align: right;\n",
       "    }\n",
       "</style>\n",
       "<table border=\"1\" class=\"dataframe\">\n",
       "  <thead>\n",
       "    <tr style=\"text-align: right;\">\n",
       "      <th></th>\n",
       "      <th>article_id</th>\n",
       "      <th>article_name</th>\n",
       "      <th>article_sub_header</th>\n",
       "      <th>source_id</th>\n",
       "      <th>category_id</th>\n",
       "      <th>url</th>\n",
       "      <th>last_updated</th>\n",
       "    </tr>\n",
       "  </thead>\n",
       "  <tbody>\n",
       "    <tr>\n",
       "      <th>40</th>\n",
       "      <td>41</td>\n",
       "      <td>Portland mayor: Time to ‘take our city back’ f...</td>\n",
       "      <td>he mayor of Portland, Ore. has asked for the p...</td>\n",
       "      <td>24</td>\n",
       "      <td>20</td>\n",
       "      <td>https://www.allsides.com/news/2021-04-25-1037/...</td>\n",
       "      <td>2021-04-26 13:31:39.689265</td>\n",
       "    </tr>\n",
       "    <tr>\n",
       "      <th>41</th>\n",
       "      <td>42</td>\n",
       "      <td>Portland police declare riot Friday night afte...</td>\n",
       "      <td>Police in Portland, Oregon, declared a riot in...</td>\n",
       "      <td>28</td>\n",
       "      <td>20</td>\n",
       "      <td>https://www.allsides.com/news/2021-04-24-1757/...</td>\n",
       "      <td>2021-04-26 13:31:39.689265</td>\n",
       "    </tr>\n",
       "    <tr>\n",
       "      <th>42</th>\n",
       "      <td>43</td>\n",
       "      <td>Kamala Harris to have virtual conversation wit...</td>\n",
       "      <td>Vice President Kamala Harris and Mexican Presi...</td>\n",
       "      <td>32</td>\n",
       "      <td>26</td>\n",
       "      <td>https://www.allsides.com/news/2021-04-24-1748/...</td>\n",
       "      <td>2021-04-26 13:31:39.689265</td>\n",
       "    </tr>\n",
       "    <tr>\n",
       "      <th>43</th>\n",
       "      <td>44</td>\n",
       "      <td>California to Halt Fracking Permits by January...</td>\n",
       "      <td>California will stop issuing new permits for h...</td>\n",
       "      <td>33</td>\n",
       "      <td>27</td>\n",
       "      <td>https://www.allsides.com/news/2021-04-25-0152/...</td>\n",
       "      <td>2021-04-26 13:31:39.689265</td>\n",
       "    </tr>\n",
       "    <tr>\n",
       "      <th>44</th>\n",
       "      <td>45</td>\n",
       "      <td>Could the mRNA Vaccines Permanently Alter DNA?</td>\n",
       "      <td>FACT CHECK An article from The Defender, a new...</td>\n",
       "      <td>34</td>\n",
       "      <td>28</td>\n",
       "      <td>https://www.allsides.com/news/2021-04-25-0145/...</td>\n",
       "      <td>2021-04-26 13:31:39.689265</td>\n",
       "    </tr>\n",
       "  </tbody>\n",
       "</table>\n",
       "</div>"
      ],
      "text/plain": [
       "    article_id                                       article_name  \\\n",
       "40          41  Portland mayor: Time to ‘take our city back’ f...   \n",
       "41          42  Portland police declare riot Friday night afte...   \n",
       "42          43  Kamala Harris to have virtual conversation wit...   \n",
       "43          44  California to Halt Fracking Permits by January...   \n",
       "44          45     Could the mRNA Vaccines Permanently Alter DNA?   \n",
       "\n",
       "                                   article_sub_header  source_id  category_id  \\\n",
       "40  he mayor of Portland, Ore. has asked for the p...         24           20   \n",
       "41  Police in Portland, Oregon, declared a riot in...         28           20   \n",
       "42  Vice President Kamala Harris and Mexican Presi...         32           26   \n",
       "43  California will stop issuing new permits for h...         33           27   \n",
       "44  FACT CHECK An article from The Defender, a new...         34           28   \n",
       "\n",
       "                                                  url  \\\n",
       "40  https://www.allsides.com/news/2021-04-25-1037/...   \n",
       "41  https://www.allsides.com/news/2021-04-24-1757/...   \n",
       "42  https://www.allsides.com/news/2021-04-24-1748/...   \n",
       "43  https://www.allsides.com/news/2021-04-25-0152/...   \n",
       "44  https://www.allsides.com/news/2021-04-25-0145/...   \n",
       "\n",
       "                 last_updated  \n",
       "40 2021-04-26 13:31:39.689265  \n",
       "41 2021-04-26 13:31:39.689265  \n",
       "42 2021-04-26 13:31:39.689265  \n",
       "43 2021-04-26 13:31:39.689265  \n",
       "44 2021-04-26 13:31:39.689265  "
      ]
     },
     "execution_count": 20,
     "metadata": {},
     "output_type": "execute_result"
    }
   ],
   "source": [
    "query = \"\"\"\n",
    "        SELECT\n",
    "            *\n",
    "        FROM\n",
    "            headlines\n",
    "        \"\"\"\n",
    "#Save to Df\n",
    "conn = engine.connect()\n",
    "sql_headlines_df = pd.read_sql(query, con=conn)\n",
    "conn.close()\n",
    "\n",
    "sql_headlines_df.tail()"
   ]
  },
  {
   "cell_type": "markdown",
   "metadata": {},
   "source": [
    "# Query to the Database in Postgres"
   ]
  },
  {
   "cell_type": "code",
   "execution_count": 21,
   "metadata": {},
   "outputs": [
    {
     "data": {
      "text/html": [
       "<div>\n",
       "<style scoped>\n",
       "    .dataframe tbody tr th:only-of-type {\n",
       "        vertical-align: middle;\n",
       "    }\n",
       "\n",
       "    .dataframe tbody tr th {\n",
       "        vertical-align: top;\n",
       "    }\n",
       "\n",
       "    .dataframe thead th {\n",
       "        text-align: right;\n",
       "    }\n",
       "</style>\n",
       "<table border=\"1\" class=\"dataframe\">\n",
       "  <thead>\n",
       "    <tr style=\"text-align: right;\">\n",
       "      <th></th>\n",
       "      <th>article_id</th>\n",
       "      <th>article_name</th>\n",
       "      <th>source_name</th>\n",
       "      <th>category_name</th>\n",
       "    </tr>\n",
       "  </thead>\n",
       "  <tbody>\n",
       "    <tr>\n",
       "      <th>0</th>\n",
       "      <td>5</td>\n",
       "      <td>Liberal push to expand Supreme Court is all bu...</td>\n",
       "      <td>Politico</td>\n",
       "      <td>US Senate</td>\n",
       "    </tr>\n",
       "    <tr>\n",
       "      <th>1</th>\n",
       "      <td>21</td>\n",
       "      <td>GOP worries fiscal conservatism losing its ral...</td>\n",
       "      <td>The Hill</td>\n",
       "      <td>US Senate</td>\n",
       "    </tr>\n",
       "  </tbody>\n",
       "</table>\n",
       "</div>"
      ],
      "text/plain": [
       "   article_id                                       article_name source_name  \\\n",
       "0           5  Liberal push to expand Supreme Court is all bu...    Politico   \n",
       "1          21  GOP worries fiscal conservatism losing its ral...    The Hill   \n",
       "\n",
       "  category_name  \n",
       "0     US Senate  \n",
       "1     US Senate  "
      ]
     },
     "execution_count": 21,
     "metadata": {},
     "output_type": "execute_result"
    }
   ],
   "source": [
    "# Find all articles related to CORONA VIRUS. Sort them by the SOURCE in alphabetical order.\n",
    "query = \"\"\"\n",
    "        SELECT\n",
    "            h.article_id,\n",
    "            h.article_name,\n",
    "            s.source_name,\n",
    "            c.category_name\n",
    "        FROM\n",
    "            headlines h\n",
    "        JOIN\n",
    "            category c ON \n",
    "            h.category_id = c.category_id\n",
    "        JOIN \n",
    "            sources s ON\n",
    "            h.source_id = s.source_id\n",
    "        WHERE\n",
    "            c.category_id = 5\n",
    "        ORDER BY\n",
    "            s.source_name asc;\n",
    "        \"\"\"\n",
    "\n",
    "#Save to Df\n",
    "conn = engine.connect()\n",
    "query_df = pd.read_sql(query, con=conn)\n",
    "conn.close()\n",
    "\n",
    "query_df.tail()"
   ]
  },
  {
   "cell_type": "markdown",
   "metadata": {},
   "source": [
    "# Updating the Database"
   ]
  },
  {
   "cell_type": "markdown",
   "metadata": {},
   "source": [
    "### Sources Table"
   ]
  },
  {
   "cell_type": "code",
   "execution_count": 22,
   "metadata": {},
   "outputs": [
    {
     "data": {
      "text/html": [
       "<div>\n",
       "<style scoped>\n",
       "    .dataframe tbody tr th:only-of-type {\n",
       "        vertical-align: middle;\n",
       "    }\n",
       "\n",
       "    .dataframe tbody tr th {\n",
       "        vertical-align: top;\n",
       "    }\n",
       "\n",
       "    .dataframe thead th {\n",
       "        text-align: right;\n",
       "    }\n",
       "</style>\n",
       "<table border=\"1\" class=\"dataframe\">\n",
       "  <thead>\n",
       "    <tr style=\"text-align: right;\">\n",
       "      <th></th>\n",
       "      <th>source_id</th>\n",
       "      <th>source_name</th>\n",
       "      <th>last_updated</th>\n",
       "    </tr>\n",
       "  </thead>\n",
       "  <tbody>\n",
       "    <tr>\n",
       "      <th>29</th>\n",
       "      <td>30</td>\n",
       "      <td>Breitbart News</td>\n",
       "      <td>2021-04-26 13:31:39.564717</td>\n",
       "    </tr>\n",
       "    <tr>\n",
       "      <th>30</th>\n",
       "      <td>31</td>\n",
       "      <td>Reason</td>\n",
       "      <td>2021-04-26 13:31:39.564717</td>\n",
       "    </tr>\n",
       "    <tr>\n",
       "      <th>31</th>\n",
       "      <td>32</td>\n",
       "      <td>Washington Examiner</td>\n",
       "      <td>2021-04-26 13:31:39.564717</td>\n",
       "    </tr>\n",
       "    <tr>\n",
       "      <th>32</th>\n",
       "      <td>33</td>\n",
       "      <td>The Epoch Times</td>\n",
       "      <td>2021-04-26 13:31:39.564717</td>\n",
       "    </tr>\n",
       "    <tr>\n",
       "      <th>33</th>\n",
       "      <td>34</td>\n",
       "      <td>The Dispatch</td>\n",
       "      <td>2021-04-26 13:31:39.564717</td>\n",
       "    </tr>\n",
       "  </tbody>\n",
       "</table>\n",
       "</div>"
      ],
      "text/plain": [
       "    source_id          source_name               last_updated\n",
       "29         30       Breitbart News 2021-04-26 13:31:39.564717\n",
       "30         31               Reason 2021-04-26 13:31:39.564717\n",
       "31         32  Washington Examiner 2021-04-26 13:31:39.564717\n",
       "32         33      The Epoch Times 2021-04-26 13:31:39.564717\n",
       "33         34         The Dispatch 2021-04-26 13:31:39.564717"
      ]
     },
     "execution_count": 22,
     "metadata": {},
     "output_type": "execute_result"
    }
   ],
   "source": [
    "# Pull sources Table from SQL db\n",
    "query = \"\"\"\n",
    "        SELECT\n",
    "            *\n",
    "        FROM\n",
    "            sources\n",
    "        \"\"\"\n",
    "conn = engine.connect()\n",
    "sql_sources_df = pd.read_sql(query, con=conn)\n",
    "conn.close()\n",
    "\n",
    "sql_sources_df.tail()"
   ]
  },
  {
   "cell_type": "code",
   "execution_count": 23,
   "metadata": {},
   "outputs": [
    {
     "name": "stdout",
     "output_type": "stream",
     "text": [
      "The number of sources to be added to SQL is: 0\n"
     ]
    },
    {
     "data": {
      "text/html": [
       "<div>\n",
       "<style scoped>\n",
       "    .dataframe tbody tr th:only-of-type {\n",
       "        vertical-align: middle;\n",
       "    }\n",
       "\n",
       "    .dataframe tbody tr th {\n",
       "        vertical-align: top;\n",
       "    }\n",
       "\n",
       "    .dataframe thead th {\n",
       "        text-align: right;\n",
       "    }\n",
       "</style>\n",
       "<table border=\"1\" class=\"dataframe\">\n",
       "  <thead>\n",
       "    <tr style=\"text-align: right;\">\n",
       "      <th></th>\n",
       "      <th>source_name</th>\n",
       "    </tr>\n",
       "  </thead>\n",
       "  <tbody>\n",
       "  </tbody>\n",
       "</table>\n",
       "</div>"
      ],
      "text/plain": [
       "Empty DataFrame\n",
       "Columns: [source_name]\n",
       "Index: []"
      ]
     },
     "execution_count": 23,
     "metadata": {},
     "output_type": "execute_result"
    }
   ],
   "source": [
    "# Pull current list of Source (we are avoiding duplicating the list here)\n",
    "sql_sources_list = sql_sources_df.source_name.to_list()\n",
    "\n",
    "# Create empty list for updates\n",
    "sources_update = []\n",
    "\n",
    "# Loop through current list of Sources\n",
    "for source in sources_df.source_name:\n",
    "    # If source is NOT IN current list... Append to our update list\n",
    "    if source not in sql_sources_list:\n",
    "        sources_update.append(source)\n",
    "\n",
    "source_adds = len(sources_update)\n",
    "print(f\"The number of sources to be added to SQL is: {source_adds}\")\n",
    "\n",
    "# Save updates in a new DataFrame\n",
    "sources_update_df = pd.DataFrame()\n",
    "sources_update_df['source_name'] = sources_update\n",
    "sources_update_df.head()"
   ]
  },
  {
   "cell_type": "code",
   "execution_count": 24,
   "metadata": {},
   "outputs": [],
   "source": [
    "# Send UPDATES DataFrame to SQL\n",
    "# Any NEW sources will be added to the end of the table\n",
    "conn = engine.connect()\n",
    "sources_update_df.to_sql(\"sources\", schema=\"public\", con=conn, if_exists=\"append\", index=False, method=\"multi\")\n",
    "conn.close()"
   ]
  },
  {
   "cell_type": "code",
   "execution_count": null,
   "metadata": {},
   "outputs": [],
   "source": []
  },
  {
   "cell_type": "code",
   "execution_count": null,
   "metadata": {},
   "outputs": [],
   "source": []
  },
  {
   "cell_type": "markdown",
   "metadata": {},
   "source": [
    "### Category Table"
   ]
  },
  {
   "cell_type": "code",
   "execution_count": 25,
   "metadata": {},
   "outputs": [
    {
     "data": {
      "text/html": [
       "<div>\n",
       "<style scoped>\n",
       "    .dataframe tbody tr th:only-of-type {\n",
       "        vertical-align: middle;\n",
       "    }\n",
       "\n",
       "    .dataframe tbody tr th {\n",
       "        vertical-align: top;\n",
       "    }\n",
       "\n",
       "    .dataframe thead th {\n",
       "        text-align: right;\n",
       "    }\n",
       "</style>\n",
       "<table border=\"1\" class=\"dataframe\">\n",
       "  <thead>\n",
       "    <tr style=\"text-align: right;\">\n",
       "      <th></th>\n",
       "      <th>category_id</th>\n",
       "      <th>category_name</th>\n",
       "      <th>last_updated</th>\n",
       "    </tr>\n",
       "  </thead>\n",
       "  <tbody>\n",
       "    <tr>\n",
       "      <th>23</th>\n",
       "      <td>24</td>\n",
       "      <td>White House</td>\n",
       "      <td>2021-04-26 13:31:39.608942</td>\n",
       "    </tr>\n",
       "    <tr>\n",
       "      <th>24</th>\n",
       "      <td>25</td>\n",
       "      <td>Arts and Entertainment</td>\n",
       "      <td>2021-04-26 13:31:39.608942</td>\n",
       "    </tr>\n",
       "    <tr>\n",
       "      <th>25</th>\n",
       "      <td>26</td>\n",
       "      <td>Kamala Harris</td>\n",
       "      <td>2021-04-26 13:31:39.608942</td>\n",
       "    </tr>\n",
       "    <tr>\n",
       "      <th>26</th>\n",
       "      <td>27</td>\n",
       "      <td>Energy</td>\n",
       "      <td>2021-04-26 13:31:39.608942</td>\n",
       "    </tr>\n",
       "    <tr>\n",
       "      <th>27</th>\n",
       "      <td>28</td>\n",
       "      <td>COVID-19 Misinformation</td>\n",
       "      <td>2021-04-26 13:31:39.608942</td>\n",
       "    </tr>\n",
       "  </tbody>\n",
       "</table>\n",
       "</div>"
      ],
      "text/plain": [
       "    category_id            category_name               last_updated\n",
       "23           24              White House 2021-04-26 13:31:39.608942\n",
       "24           25   Arts and Entertainment 2021-04-26 13:31:39.608942\n",
       "25           26            Kamala Harris 2021-04-26 13:31:39.608942\n",
       "26           27                   Energy 2021-04-26 13:31:39.608942\n",
       "27           28  COVID-19 Misinformation 2021-04-26 13:31:39.608942"
      ]
     },
     "execution_count": 25,
     "metadata": {},
     "output_type": "execute_result"
    }
   ],
   "source": [
    "query = \"\"\"\n",
    "        SELECT\n",
    "            *\n",
    "        FROM\n",
    "            category\n",
    "        \"\"\"\n",
    "conn = engine.connect()\n",
    "sql_cat_df = pd.read_sql(query, con=conn)\n",
    "conn.close()\n",
    "\n",
    "sql_cat_df.tail()"
   ]
  },
  {
   "cell_type": "code",
   "execution_count": 26,
   "metadata": {},
   "outputs": [
    {
     "name": "stdout",
     "output_type": "stream",
     "text": [
      "The number of sources to be added to SQL is: 0\n"
     ]
    },
    {
     "data": {
      "text/html": [
       "<div>\n",
       "<style scoped>\n",
       "    .dataframe tbody tr th:only-of-type {\n",
       "        vertical-align: middle;\n",
       "    }\n",
       "\n",
       "    .dataframe tbody tr th {\n",
       "        vertical-align: top;\n",
       "    }\n",
       "\n",
       "    .dataframe thead th {\n",
       "        text-align: right;\n",
       "    }\n",
       "</style>\n",
       "<table border=\"1\" class=\"dataframe\">\n",
       "  <thead>\n",
       "    <tr style=\"text-align: right;\">\n",
       "      <th></th>\n",
       "      <th>category_name</th>\n",
       "    </tr>\n",
       "  </thead>\n",
       "  <tbody>\n",
       "  </tbody>\n",
       "</table>\n",
       "</div>"
      ],
      "text/plain": [
       "Empty DataFrame\n",
       "Columns: [category_name]\n",
       "Index: []"
      ]
     },
     "execution_count": 26,
     "metadata": {},
     "output_type": "execute_result"
    }
   ],
   "source": [
    "# Pull current list of Categories (we are avoiding duplicating the list here)\n",
    "sql_cat_list = sql_cat_df.category_name.to_list()\n",
    "\n",
    "# Create empty list for updates\n",
    "cats_update = []\n",
    "\n",
    "# Loop through current list of Categories\n",
    "for cat in category_df.category_name:\n",
    "    # If category is NOT IN current list... Append to our update list\n",
    "    if cat not in sql_cat_list:\n",
    "        cats_update.append(cat)\n",
    "\n",
    "cat_adds = len(cats_update)\n",
    "print(f\"The number of sources to be added to SQL is: {cat_adds}\")\n",
    "\n",
    "# Save updates in a new DataFrame\n",
    "cat_update_df = pd.DataFrame()\n",
    "cat_update_df['category_name'] = cats_update\n",
    "cat_update_df.head()"
   ]
  },
  {
   "cell_type": "code",
   "execution_count": 27,
   "metadata": {},
   "outputs": [],
   "source": [
    "conn = engine.connect()\n",
    "cat_update_df.to_sql(\"category\", schema=\"public\", con=conn, if_exists=\"append\", index=False, method=\"multi\")\n",
    "conn.close()"
   ]
  },
  {
   "cell_type": "markdown",
   "metadata": {},
   "source": [
    "### Headlines Table"
   ]
  },
  {
   "cell_type": "code",
   "execution_count": 28,
   "metadata": {},
   "outputs": [
    {
     "data": {
      "text/html": [
       "<div>\n",
       "<style scoped>\n",
       "    .dataframe tbody tr th:only-of-type {\n",
       "        vertical-align: middle;\n",
       "    }\n",
       "\n",
       "    .dataframe tbody tr th {\n",
       "        vertical-align: top;\n",
       "    }\n",
       "\n",
       "    .dataframe thead th {\n",
       "        text-align: right;\n",
       "    }\n",
       "</style>\n",
       "<table border=\"1\" class=\"dataframe\">\n",
       "  <thead>\n",
       "    <tr style=\"text-align: right;\">\n",
       "      <th></th>\n",
       "      <th>article_id</th>\n",
       "      <th>article_name</th>\n",
       "      <th>article_sub_header</th>\n",
       "      <th>source_id</th>\n",
       "      <th>category_id</th>\n",
       "      <th>url</th>\n",
       "      <th>last_updated</th>\n",
       "    </tr>\n",
       "  </thead>\n",
       "  <tbody>\n",
       "    <tr>\n",
       "      <th>40</th>\n",
       "      <td>41</td>\n",
       "      <td>Portland mayor: Time to ‘take our city back’ f...</td>\n",
       "      <td>he mayor of Portland, Ore. has asked for the p...</td>\n",
       "      <td>24</td>\n",
       "      <td>20</td>\n",
       "      <td>https://www.allsides.com/news/2021-04-25-1037/...</td>\n",
       "      <td>2021-04-26 13:31:39.689265</td>\n",
       "    </tr>\n",
       "    <tr>\n",
       "      <th>41</th>\n",
       "      <td>42</td>\n",
       "      <td>Portland police declare riot Friday night afte...</td>\n",
       "      <td>Police in Portland, Oregon, declared a riot in...</td>\n",
       "      <td>28</td>\n",
       "      <td>20</td>\n",
       "      <td>https://www.allsides.com/news/2021-04-24-1757/...</td>\n",
       "      <td>2021-04-26 13:31:39.689265</td>\n",
       "    </tr>\n",
       "    <tr>\n",
       "      <th>42</th>\n",
       "      <td>43</td>\n",
       "      <td>Kamala Harris to have virtual conversation wit...</td>\n",
       "      <td>Vice President Kamala Harris and Mexican Presi...</td>\n",
       "      <td>32</td>\n",
       "      <td>26</td>\n",
       "      <td>https://www.allsides.com/news/2021-04-24-1748/...</td>\n",
       "      <td>2021-04-26 13:31:39.689265</td>\n",
       "    </tr>\n",
       "    <tr>\n",
       "      <th>43</th>\n",
       "      <td>44</td>\n",
       "      <td>California to Halt Fracking Permits by January...</td>\n",
       "      <td>California will stop issuing new permits for h...</td>\n",
       "      <td>33</td>\n",
       "      <td>27</td>\n",
       "      <td>https://www.allsides.com/news/2021-04-25-0152/...</td>\n",
       "      <td>2021-04-26 13:31:39.689265</td>\n",
       "    </tr>\n",
       "    <tr>\n",
       "      <th>44</th>\n",
       "      <td>45</td>\n",
       "      <td>Could the mRNA Vaccines Permanently Alter DNA?</td>\n",
       "      <td>FACT CHECK An article from The Defender, a new...</td>\n",
       "      <td>34</td>\n",
       "      <td>28</td>\n",
       "      <td>https://www.allsides.com/news/2021-04-25-0145/...</td>\n",
       "      <td>2021-04-26 13:31:39.689265</td>\n",
       "    </tr>\n",
       "  </tbody>\n",
       "</table>\n",
       "</div>"
      ],
      "text/plain": [
       "    article_id                                       article_name  \\\n",
       "40          41  Portland mayor: Time to ‘take our city back’ f...   \n",
       "41          42  Portland police declare riot Friday night afte...   \n",
       "42          43  Kamala Harris to have virtual conversation wit...   \n",
       "43          44  California to Halt Fracking Permits by January...   \n",
       "44          45     Could the mRNA Vaccines Permanently Alter DNA?   \n",
       "\n",
       "                                   article_sub_header  source_id  category_id  \\\n",
       "40  he mayor of Portland, Ore. has asked for the p...         24           20   \n",
       "41  Police in Portland, Oregon, declared a riot in...         28           20   \n",
       "42  Vice President Kamala Harris and Mexican Presi...         32           26   \n",
       "43  California will stop issuing new permits for h...         33           27   \n",
       "44  FACT CHECK An article from The Defender, a new...         34           28   \n",
       "\n",
       "                                                  url  \\\n",
       "40  https://www.allsides.com/news/2021-04-25-1037/...   \n",
       "41  https://www.allsides.com/news/2021-04-24-1757/...   \n",
       "42  https://www.allsides.com/news/2021-04-24-1748/...   \n",
       "43  https://www.allsides.com/news/2021-04-25-0152/...   \n",
       "44  https://www.allsides.com/news/2021-04-25-0145/...   \n",
       "\n",
       "                 last_updated  \n",
       "40 2021-04-26 13:31:39.689265  \n",
       "41 2021-04-26 13:31:39.689265  \n",
       "42 2021-04-26 13:31:39.689265  \n",
       "43 2021-04-26 13:31:39.689265  \n",
       "44 2021-04-26 13:31:39.689265  "
      ]
     },
     "execution_count": 28,
     "metadata": {},
     "output_type": "execute_result"
    }
   ],
   "source": [
    "query = \"\"\"\n",
    "        SELECT\n",
    "            *\n",
    "        FROM\n",
    "            headlines\n",
    "        \"\"\"\n",
    "conn = engine.connect()\n",
    "sql_headlines_df = pd.read_sql(query, con=conn)\n",
    "conn.close()\n",
    "\n",
    "sql_headlines_df.tail()"
   ]
  },
  {
   "cell_type": "markdown",
   "metadata": {},
   "source": [
    "## Update Headlines"
   ]
  },
  {
   "cell_type": "code",
   "execution_count": 29,
   "metadata": {},
   "outputs": [
    {
     "name": "stdout",
     "output_type": "stream",
     "text": [
      "ARTICLE FOUND - Skipping headline: 1 of 45\n",
      "ARTICLE FOUND - Skipping headline: 2 of 45\n",
      "ARTICLE FOUND - Skipping headline: 3 of 45\n",
      "ARTICLE FOUND - Skipping headline: 4 of 45\n",
      "ARTICLE FOUND - Skipping headline: 5 of 45\n",
      "ARTICLE FOUND - Skipping headline: 6 of 45\n",
      "ARTICLE FOUND - Skipping headline: 7 of 45\n",
      "ARTICLE FOUND - Skipping headline: 8 of 45\n",
      "ARTICLE FOUND - Skipping headline: 9 of 45\n",
      "ARTICLE FOUND - Skipping headline: 10 of 45\n",
      "ARTICLE FOUND - Skipping headline: 11 of 45\n",
      "ARTICLE FOUND - Skipping headline: 12 of 45\n",
      "ARTICLE FOUND - Skipping headline: 13 of 45\n",
      "ARTICLE FOUND - Skipping headline: 14 of 45\n",
      "ARTICLE FOUND - Skipping headline: 15 of 45\n",
      "ARTICLE FOUND - Skipping headline: 16 of 45\n",
      "ARTICLE FOUND - Skipping headline: 17 of 45\n",
      "ARTICLE FOUND - Skipping headline: 18 of 45\n",
      "ARTICLE FOUND - Skipping headline: 19 of 45\n",
      "ARTICLE FOUND - Skipping headline: 20 of 45\n",
      "ARTICLE FOUND - Skipping headline: 21 of 45\n",
      "ARTICLE FOUND - Skipping headline: 22 of 45\n",
      "ARTICLE FOUND - Skipping headline: 23 of 45\n",
      "ARTICLE FOUND - Skipping headline: 24 of 45\n",
      "ARTICLE FOUND - Skipping headline: 25 of 45\n",
      "ARTICLE FOUND - Skipping headline: 26 of 45\n",
      "ARTICLE FOUND - Skipping headline: 27 of 45\n",
      "ARTICLE FOUND - Skipping headline: 28 of 45\n",
      "ARTICLE FOUND - Skipping headline: 29 of 45\n",
      "ARTICLE FOUND - Skipping headline: 30 of 45\n",
      "ARTICLE FOUND - Skipping headline: 31 of 45\n",
      "ARTICLE FOUND - Skipping headline: 32 of 45\n",
      "ARTICLE FOUND - Skipping headline: 33 of 45\n",
      "ARTICLE FOUND - Skipping headline: 34 of 45\n",
      "ARTICLE FOUND - Skipping headline: 35 of 45\n",
      "ARTICLE FOUND - Skipping headline: 36 of 45\n",
      "ARTICLE FOUND - Skipping headline: 37 of 45\n",
      "ARTICLE FOUND - Skipping headline: 38 of 45\n",
      "ARTICLE FOUND - Skipping headline: 39 of 45\n",
      "ARTICLE FOUND - Skipping headline: 40 of 45\n",
      "ARTICLE FOUND - Skipping headline: 41 of 45\n",
      "ARTICLE FOUND - Skipping headline: 42 of 45\n",
      "ARTICLE FOUND - Skipping headline: 43 of 45\n",
      "ARTICLE FOUND - Skipping headline: 44 of 45\n",
      "ARTICLE FOUND - Skipping headline: 45 of 45\n"
     ]
    }
   ],
   "source": [
    "sql_headlines_list = sql_headlines_df.article_name.to_list()\n",
    "\n",
    "headlines_update = []\n",
    "count = 0\n",
    "\n",
    "for article in headlines_df.article_name:\n",
    "    if article not in sql_headlines_list:\n",
    "        headlines_update.append(article)\n",
    "        if len(headlines_update) > 0:\n",
    "            #Find the article\n",
    "            update_df = headlines_df.loc[headlines_df.article_name == article]\n",
    "            headline_updater = update_df.article_name.values[0]\n",
    "            sub_header_updater = update_df.article_sub_header.values[0]\n",
    "            source_id_updater = sql_sources_df.source_id.loc[sql_sources_df['source_name'] == update_df.source_name.values[0]]\n",
    "            category_id_updater = sql_cat_df.category_id.loc[sql_cat_df['category_name'] == update_df.category_name.values[0]]\n",
    "            url_updater = update_df.url.values[0]\n",
    "            \n",
    "             #Save variables off to DataFrame\n",
    "            updater_df = pd.DataFrame()\n",
    "\n",
    "            updater_df['article_name'] = update_df.article_name\n",
    "            updater_df['article_sub_header'] = sub_header_updater\n",
    "            updater_df['source_id'] = source_id_updater.values[0]\n",
    "            updater_df['category_id'] = category_id_updater.values[0]\n",
    "            updater_df['url'] = url_updater\n",
    "            \n",
    "               #Load to SQL\n",
    "            conn = engine.connect()\n",
    "            updater_df.to_sql(\"headlines\", schema=\"public\", con=conn, \n",
    "                                          if_exists=\"append\", index=False, method=\"multi\")\n",
    "            conn.close()\n",
    "\n",
    "            print(f\"NOT FOUND - Added {article} to SQL headlines table\")\n",
    "            count = count + 1\n",
    "            headlines_update = []\n",
    "    else: \n",
    "        count = count + 1\n",
    "        print(f\"ARTICLE FOUND - Skipping headline: {count} of {len(headlines_df.article_name)}\")\n",
    "            \n",
    "        "
   ]
  }
 ],
 "metadata": {
  "kernelspec": {
   "display_name": "Python 3",
   "language": "python",
   "name": "python3"
  },
  "language_info": {
   "codemirror_mode": {
    "name": "ipython",
    "version": 3
   },
   "file_extension": ".py",
   "mimetype": "text/x-python",
   "name": "python",
   "nbconvert_exporter": "python",
   "pygments_lexer": "ipython3",
   "version": "3.8.3"
  }
 },
 "nbformat": 4,
 "nbformat_minor": 4
}
